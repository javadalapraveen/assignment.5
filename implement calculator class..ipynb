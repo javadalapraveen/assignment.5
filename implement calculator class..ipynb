{
 "cells": [
  {
   "cell_type": "code",
   "execution_count": 1,
   "metadata": {},
   "outputs": [
    {
     "name": "stdout",
     "output_type": "stream",
     "text": [
      "104\n",
      "84\n",
      "940\n",
      "9.4\n"
     ]
    }
   ],
   "source": [
    "class Calculator:\n",
    "\n",
    "    def __init__(self):\n",
    "        self.num1 = num1\n",
    "        self.num2 = num2\n",
    "    \n",
    "    def addition(self):\n",
    "        self.addition= num1+num2\n",
    "        print(self.addition)\n",
    "    \n",
    "    def substract(self):\n",
    "        self.substract= num2-num1\n",
    "        print(self.substract)\n",
    "    \n",
    "    def multiply(self):\n",
    "        self.multiply=num1*num2\n",
    "        print(self.multiply)\n",
    "\n",
    "    def divide(self):\n",
    "        self.divide=num2/num1\n",
    "        print(self.divide)\n",
    "\n",
    "num1=int(input(\"enter the number : \"))\n",
    "num2=int(input(\"enter the number : \"))\n",
    "\n",
    "clcc=Calculator()\n",
    "clcc.addition()\n",
    "clcc.substract()\n",
    "clcc.multiply()\n",
    "clcc.divide()"
   ]
  }
 ],
 "metadata": {
  "kernelspec": {
   "display_name": "Python 3",
   "language": "python",
   "name": "python3"
  },
  "language_info": {
   "codemirror_mode": {
    "name": "ipython",
    "version": 3
   },
   "file_extension": ".py",
   "mimetype": "text/x-python",
   "name": "python",
   "nbconvert_exporter": "python",
   "pygments_lexer": "ipython3",
   "version": "3.11.4"
  },
  "orig_nbformat": 4
 },
 "nbformat": 4,
 "nbformat_minor": 2
}
