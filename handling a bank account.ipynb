{
 "cells": [
  {
   "cell_type": "code",
   "execution_count": 1,
   "metadata": {},
   "outputs": [
    {
     "name": "stdout",
     "output_type": "stream",
     "text": [
      "the current balance is :  2000\n",
      "the new amount deposited is :  500\n",
      "the updated balance is :  2500\n",
      "the current balance is :  2000\n",
      "the withdrawn amount is :  500\n",
      "the updated balance after withdrawal is : 1500\n",
      "your avaialble balance is :  2000\n",
      "your interest rate is :  5.0\n",
      "the simple interest of the savings account is  :  100.0\n"
     ]
    }
   ],
   "source": [
    "class Account:\n",
    "    def __init__(self, title=None, balance=0):\n",
    "        self.title = \"praveen\"\n",
    "        self.balance = 2000\n",
    "    \n",
    "    def withdrawal_money(self):\n",
    "        # write code here\n",
    "        print(\"the current balance is : \",self.balance)\n",
    "        self.amnt= int(input(\"enter the amount: \"))\n",
    "        if self.amnt <= self.balance:\n",
    "            self.balance -= self.amnt\n",
    "            \n",
    "        else:\n",
    "            raise ValueError(\"insufficient funds\")\n",
    "        \n",
    "        print(\"the withdrawn amount is : \",self.amnt)\n",
    "        \n",
    "    def get_balance(self):\n",
    "        print(\"the updated balance after withdrawal is :\",self.balance)\n",
    "        return self.balance\n",
    "        \n",
    "\n",
    "    def deposit_money(self):\n",
    "        \n",
    "        #Gives the present balance of the account \n",
    "        print(\"the current balance is : \",self.balance)\n",
    "\n",
    "        #takes input of deposit amnount from user\n",
    "        self.amount= int(input(\"enter the amount: \"))\n",
    "\n",
    "        self.blnc=self.balance\n",
    "        self.blnc+=self.amount\n",
    "        print(\"the new amount deposited is : \", self.amount)\n",
    "        \n",
    "    def get_Balance1(self):\n",
    "        print(\"the updated balance is : \",self.blnc)\n",
    "        return self.blnc\n",
    "        \n",
    "\n",
    "class SavingsAccount(Account):\n",
    "\n",
    "    def __init__(self,balance = None, interest_rate = 0):\n",
    "        super().__init__(balance)\n",
    "        self.interest_rate=interest_rate\n",
    "\n",
    "    def add_interest(self,duration):\n",
    "        print(\"your avaialble balance is : \",self.balance)\n",
    "        self.interest_rate=float(input(\"enter the number: \"))\n",
    "        print(\"your interest rate is : \",self.interest_rate)\n",
    "        si=(self.balance*duration *interest_rate) /100\n",
    "        print(\"the simple interest of the savings account is  : \", si)\n",
    "\n",
    "interest_rate=5\n",
    "abb=Account()\n",
    "abb.deposit_money()\n",
    "abb.get_Balance1()\n",
    "abb.withdrawal_money()\n",
    "abb.get_balance()\n",
    "abs=SavingsAccount()\n",
    "abs.add_interest(1)\n",
    "\n"
   ]
  }
 ],
 "metadata": {
  "kernelspec": {
   "display_name": "Python 3",
   "language": "python",
   "name": "python3"
  },
  "language_info": {
   "codemirror_mode": {
    "name": "ipython",
    "version": 3
   },
   "file_extension": ".py",
   "mimetype": "text/x-python",
   "name": "python",
   "nbconvert_exporter": "python",
   "pygments_lexer": "ipython3",
   "version": "3.11.4"
  },
  "orig_nbformat": 4
 },
 "nbformat": 4,
 "nbformat_minor": 2
}
