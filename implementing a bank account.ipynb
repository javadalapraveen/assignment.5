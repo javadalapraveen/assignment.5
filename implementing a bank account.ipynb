{
 "cells": [
  {
   "cell_type": "code",
   "execution_count": 1,
   "metadata": {},
   "outputs": [
    {
     "name": "stdout",
     "output_type": "stream",
     "text": [
      "your balance is:  5000\n",
      "your interest rate is : 5.0\n"
     ]
    },
    {
     "data": {
      "text/plain": [
       "5.0"
      ]
     },
     "execution_count": 1,
     "metadata": {},
     "output_type": "execute_result"
    }
   ],
   "source": [
    "class Account:\n",
    "\n",
    "    def __init__(self, title= None,balance=0):\n",
    "        self.title= \"ashish\"\n",
    "        self.balance= 5000\n",
    "        \n",
    "class SavingsAccount(Account):\n",
    "\n",
    "    def __init__(self, balance=None, interest_rate=0):\n",
    "        \n",
    "        super().__init__(balance)\n",
    "        self.interest_rate=interest_rate\n",
    "\n",
    "    def add_interest_rate(self):\n",
    "         self.interest_rate=float(input(\"enter number : \"))\n",
    "         print(\"your balance is: \",self.balance)\n",
    "         print(\"your interest rate is :\",self.interest_rate)\n",
    "\n",
    "    def get_interest_rate(self):\n",
    "        return self.interest_rate\n",
    "    \n",
    "dsd=SavingsAccount()\n",
    "dsd.add_interest_rate()\n",
    "dsd.get_interest_rate()"
   ]
  }
 ],
 "metadata": {
  "kernelspec": {
   "display_name": "Python 3",
   "language": "python",
   "name": "python3"
  },
  "language_info": {
   "codemirror_mode": {
    "name": "ipython",
    "version": 3
   },
   "file_extension": ".py",
   "mimetype": "text/x-python",
   "name": "python",
   "nbconvert_exporter": "python",
   "pygments_lexer": "ipython3",
   "version": "3.11.4"
  },
  "orig_nbformat": 4
 },
 "nbformat": 4,
 "nbformat_minor": 2
}
