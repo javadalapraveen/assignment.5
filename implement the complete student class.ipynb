{
 "cells": [
  {
   "cell_type": "code",
   "execution_count": 1,
   "metadata": {},
   "outputs": [
    {
     "name": "stdout",
     "output_type": "stream",
     "text": [
      "praveen\n",
      "darwin\n",
      "20\n",
      "40\n"
     ]
    }
   ],
   "source": [
    "class Student:\n",
    "    __Student_name= \"praveen\"\n",
    "    __roll_numer= 20\n",
    "    \n",
    "    def set_Name(self,new_name):\n",
    "        self.__Student_name = new_name\n",
    "\n",
    "    def get_Name(self):\n",
    "        print(self.__Student_name)\n",
    "\n",
    "    def set_RollNumber(self,new_roll):\n",
    "        self.__roll_numer = new_roll\n",
    "    def get_RollNumber(self):\n",
    "        print(self.__roll_numer)\n",
    "    \n",
    "dsd = Student()\n",
    "dsd.get_Name()\n",
    "dsd.set_Name(\"darwin\")\n",
    "dsd.get_Name()\n",
    "dsd.get_RollNumber()\n",
    "dsd.set_RollNumber(40)\n",
    "dsd.get_RollNumber()\n"
   ]
  }
 ],
 "metadata": {
  "kernelspec": {
   "display_name": "Python 3",
   "language": "python",
   "name": "python3"
  },
  "language_info": {
   "codemirror_mode": {
    "name": "ipython",
    "version": 3
   },
   "file_extension": ".py",
   "mimetype": "text/x-python",
   "name": "python",
   "nbconvert_exporter": "python",
   "pygments_lexer": "ipython3",
   "version": "3.11.4"
  },
  "orig_nbformat": 4
 },
 "nbformat": 4,
 "nbformat_minor": 2
}
